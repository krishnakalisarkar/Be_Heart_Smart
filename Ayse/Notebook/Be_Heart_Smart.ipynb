{
 "cells": [
  {
   "cell_type": "markdown",
   "id": "646fdeee",
   "metadata": {},
   "source": [
    "## Be Heart Smart"
   ]
  },
  {
   "cell_type": "code",
   "execution_count": null,
   "id": "c49eeefa",
   "metadata": {},
   "outputs": [],
   "source": [
    "# Import our dependencies\n",
    "import pandas as pd\n",
    "import numpy as np\n",
    "import datetime as dt\n",
    "import matplotlib.pyplot as plt\n",
    "import numpy as np"
   ]
  },
  {
   "cell_type": "code",
   "execution_count": null,
   "id": "00852dc7",
   "metadata": {},
   "outputs": [],
   "source": [
    "%matplotlib notebook"
   ]
  },
  {
   "cell_type": "markdown",
   "id": "15781c09",
   "metadata": {},
   "source": [
    "Features:\n",
    "\n",
    "1. Age | Objective Feature | age | int (days)\n",
    "2. Height | Objective Feature | height | int (cm) |\n",
    "3. Weight | Objective Feature | weight | float (kg) |\n",
    "4. Gender | Objective Feature | gender | categorical code |1= women, 2= men\n",
    "5. Systolic blood pressure | Examination Feature | ap_hi | int |\n",
    "6. Diastolic blood pressure | Examination Feature | ap_lo | int |\n",
    "7. Cholesterol | Examination Feature | cholesterol | 1: Normal (<200), 2: Moderate (200 - 239), 3: High (>240) |\n",
    "8. Glucose | Examination Feature | gluc | 1: Normal (<100), 2:Moderate (100 - 125), 3: High (>126) |\n",
    "9. Smoking | Subjective Feature | smoke | binary |\n",
    "10. Alcohol intake | Subjective Feature | alco | binary |\n",
    "11. Physical activity | Subjective Feature | active | binary |\n",
    "12. Presence or absence of cardiovascular disease | Target Variable | cardio | binary |\n"
   ]
  },
  {
   "cell_type": "code",
   "execution_count": null,
   "id": "915f3291",
   "metadata": {},
   "outputs": [],
   "source": [
    "path = (\"../Resources/Cardio_data.csv\")\n",
    "cardio_df = pd.read_csv(path)\n",
    "cardio_df.head()"
   ]
  },
  {
   "cell_type": "code",
   "execution_count": null,
   "id": "bea4c9da",
   "metadata": {},
   "outputs": [],
   "source": [
    "# Rename columns\n",
    "cardio_df = cardio_df.rename(columns={'gluc': 'glucose','alco':'alcohol_intake'})\n",
    "cardio_df.head()"
   ]
  },
  {
   "cell_type": "code",
   "execution_count": null,
   "id": "4cd5f4b2",
   "metadata": {},
   "outputs": [],
   "source": [
    "# list of column names\n",
    "cardio_df.columns"
   ]
  },
  {
   "cell_type": "code",
   "execution_count": null,
   "id": "617c5aea",
   "metadata": {},
   "outputs": [],
   "source": [
    "# Check the data type\n",
    "cardio_df.dtypes"
   ]
  },
  {
   "cell_type": "code",
   "execution_count": null,
   "id": "00ff2c8b",
   "metadata": {},
   "outputs": [],
   "source": [
    "# Checking for null values\n",
    "cardio_df.count()"
   ]
  },
  {
   "cell_type": "code",
   "execution_count": null,
   "id": "5c6f80ea",
   "metadata": {},
   "outputs": [],
   "source": [
    "# Change the age from days to years.\n",
    "cardio_df[\"age_in_years\"] = round(cardio_df[\"age\"]/365,0)\n",
    "cardio_df.head()"
   ]
  },
  {
   "cell_type": "code",
   "execution_count": null,
   "id": "a948c2b9",
   "metadata": {},
   "outputs": [],
   "source": [
    "cardio_df.shape"
   ]
  },
  {
   "cell_type": "code",
   "execution_count": null,
   "id": "662fcf40",
   "metadata": {},
   "outputs": [],
   "source": [
    "# Dropping the age column\n",
    "cardio_df = cardio_df.drop([\"age\"], axis=1)\n",
    "cardio_df.head()"
   ]
  },
  {
   "cell_type": "code",
   "execution_count": null,
   "id": "ba63439c",
   "metadata": {},
   "outputs": [],
   "source": [
    "cardio_df = cardio_df[['id', 'age_in_years','gender', 'height', 'weight','systole','diastole','cholesterol','glucose','smoke','alcohol_intake','active','cardio']]\n",
    "cardio_df.head()\n"
   ]
  },
  {
   "cell_type": "markdown",
   "id": "4cad7c9a",
   "metadata": {},
   "source": [
    "## Cleaning up the dataset"
   ]
  },
  {
   "cell_type": "code",
   "execution_count": null,
   "id": "c8f01e2b",
   "metadata": {},
   "outputs": [],
   "source": [
    "data = [cardio_df[\"systole\"]]\n",
    "fig1, ax1 = plt.subplots(figsize = (8,8))\n",
    "ax1.set_title('Systole outliers')\n",
    "ax1.boxplot(data, notch= True, showfliers=False)\n",
    "plt.show()"
   ]
  },
  {
   "cell_type": "code",
   "execution_count": null,
   "id": "ea9d44ae",
   "metadata": {},
   "outputs": [],
   "source": [
    "# Filter all rows for which the patients  systole is greater than 400 and less than 80\n",
    "new_df = cardio_df.drop(cardio_df[(cardio_df[\"systole\"] > 200)].index)\n",
    "new_df = new_df.drop(new_df[(new_df[\"systole\"] < 80)].index)\n",
    "print(new_df.shape)\n",
    "new_df.head()"
   ]
  },
  {
   "cell_type": "code",
   "execution_count": null,
   "id": "97898011",
   "metadata": {
    "scrolled": false
   },
   "outputs": [],
   "source": [
    "data = [cardio_df[\"diastole\"]]\n",
    "fig1, ax1 = plt.subplots(figsize = (8,8))\n",
    "ax1.set_title('Diastole outliers')\n",
    "ax1.boxplot(data, notch= True, showfliers=False)\n",
    "plt.show()"
   ]
  },
  {
   "cell_type": "code",
   "execution_count": null,
   "id": "4eb38fe2",
   "metadata": {},
   "outputs": [],
   "source": [
    "# Filter all rows for which the patients diastole is greater than 585 and less than 50\n",
    "diastole_df = new_df.drop(new_df[(new_df[\"diastole\"] > 200)].index)\n",
    "diastole_df = diastole_df.drop(diastole_df[(diastole_df[\"diastole\"] < 50)].index)\n",
    "print(diastole_df.shape)\n",
    "diastole_df.head()"
   ]
  },
  {
   "cell_type": "code",
   "execution_count": null,
   "id": "a15ae8cf",
   "metadata": {},
   "outputs": [],
   "source": [
    "data = [cardio_df[\"weight\"]]\n",
    "fig1, ax1 = plt.subplots(figsize = (8,8))\n",
    "ax1.set_title('Weight outliers')\n",
    "ax1.boxplot(data, notch= True, showfliers=False)\n",
    "plt.show()"
   ]
  },
  {
   "cell_type": "code",
   "execution_count": null,
   "id": "16ff76b8",
   "metadata": {},
   "outputs": [],
   "source": [
    "# Filter all rows for which the patients weight is less than 60kgs\n",
    "weight_df = diastole_df.drop(diastole_df[(diastole_df[\"weight\"] < 60)].index)\n",
    "print(weight_df.shape)\n",
    "weight_df.head()"
   ]
  },
  {
   "cell_type": "code",
   "execution_count": null,
   "id": "bc35aea8",
   "metadata": {},
   "outputs": [],
   "source": [
    "data = [cardio_df[\"height\"]]\n",
    "fig1, ax1 = plt.subplots(figsize = (8,8))\n",
    "ax1.set_title('Height outliers')\n",
    "ax1.boxplot(data, notch= True,showfliers=False)\n",
    "plt.show()"
   ]
  },
  {
   "cell_type": "code",
   "execution_count": null,
   "id": "57fa396c",
   "metadata": {},
   "outputs": [],
   "source": [
    "# Filter all rows for which the patients height is less than 140 cms\n",
    "height_df = weight_df.drop(weight_df[(weight_df[\"height\"] < 140)].index)\n",
    "height_df = height_df.drop(height_df[(height_df[\"height\"]> 200)].index)\n",
    "print(height_df.shape)\n",
    "height_df.head()"
   ]
  },
  {
   "cell_type": "code",
   "execution_count": null,
   "id": "b8985dc3",
   "metadata": {},
   "outputs": [],
   "source": [
    "cholesterol_cardio_df = height_df[\"cardio\"].groupby(height_df[\"cholesterol\"]).mean()\n",
    "cholesterol_cardio_df.head()"
   ]
  },
  {
   "cell_type": "code",
   "execution_count": null,
   "id": "c698fd7c",
   "metadata": {},
   "outputs": [],
   "source": [
    "cholesterol_cardio_df.plot.bar(color='r', alpha=0.5, align=\"center\")\n",
    "# Create labels for the x and y axes.\n",
    "plt.xlabel(\"Cholesterol levels\")\n",
    "plt.ylabel(\"Number\")\n",
    "# Create a title.\n",
    "plt.title(\"Cardiac disease based on Cholesterol Levels\")\n",
    "# Add the legend.\n",
    "plt.legend()\n"
   ]
  },
  {
   "cell_type": "code",
   "execution_count": null,
   "id": "b5dc0c94",
   "metadata": {},
   "outputs": [],
   "source": [
    "print(f\" People with very high Cholesterol level have a greater chance of developing heart disease.\")"
   ]
  },
  {
   "cell_type": "code",
   "execution_count": null,
   "id": "e5c13435",
   "metadata": {},
   "outputs": [],
   "source": [
    "glucose_cardio_df = height_df[\"cardio\"].groupby(height_df[\"glucose\"]).mean()\n",
    "glucose_cardio_df.head()"
   ]
  },
  {
   "cell_type": "code",
   "execution_count": null,
   "id": "3599753d",
   "metadata": {},
   "outputs": [],
   "source": [
    "glucose_cardio_df.plot.bar(color='green', alpha=0.5, align=\"center\")\n",
    "# Create labels for the x and y axes.\n",
    "plt.xlabel(\"Glucose levels\")\n",
    "plt.ylabel(\"Number\")\n",
    "# Create a title.\n",
    "plt.title(\"Cardiac disease based on Glucose Levels\")\n",
    "# Add the legend.\n",
    "plt.legend()"
   ]
  },
  {
   "cell_type": "code",
   "execution_count": null,
   "id": "2f1d398e",
   "metadata": {},
   "outputs": [],
   "source": [
    "print(f\" People with very high Glucose level have a greater chance of developing heart disease.\")"
   ]
  },
  {
   "cell_type": "code",
   "execution_count": null,
   "id": "8bbff155",
   "metadata": {},
   "outputs": [],
   "source": [
    "gender_cardio_df = height_df[\"cardio\"].groupby(height_df[\"gender\"]).mean()\n",
    "gender_cardio_df.head()"
   ]
  },
  {
   "cell_type": "code",
   "execution_count": null,
   "id": "af179f86",
   "metadata": {},
   "outputs": [],
   "source": [
    "gender_cardio_df.plot.bar(color='blue', alpha=0.5, align=\"center\")\n",
    "# Create labels for the x and y axes.\n",
    "plt.xlabel(\"gender\")\n",
    "plt.ylabel(\"Number\")\n",
    "# Create a title.\n",
    "plt.title(\"Cardiac disease based on Gender\")\n",
    "# Add the legend.\n",
    "plt.legend()"
   ]
  },
  {
   "cell_type": "code",
   "execution_count": null,
   "id": "b0916395",
   "metadata": {},
   "outputs": [],
   "source": [
    "alcohol_cardio_df = height_df[\"cardio\"].groupby(height_df[\"alcohol_intake\"]).mean()\n",
    "alcohol_cardio_df.head()"
   ]
  },
  {
   "cell_type": "code",
   "execution_count": null,
   "id": "a3fd34b4",
   "metadata": {},
   "outputs": [],
   "source": [
    "alcohol_cardio_df.plot.bar(color='cyan', alpha=0.5, align=\"center\")\n",
    "# Create labels for the x and y axes.\n",
    "plt.xlabel(\"Alcohol Consumption\")\n",
    "plt.ylabel(\"Number\")\n",
    "# Create a title.\n",
    "plt.title(\"Cardiac disease based on Alcohol Consumption\")\n",
    "# Add the legend.\n",
    "plt.legend()"
   ]
  },
  {
   "cell_type": "code",
   "execution_count": null,
   "id": "5a18bdc9",
   "metadata": {},
   "outputs": [],
   "source": [
    "print(f\" Alcohol consumption alone doesnot Contribute to developing heart disease.\")"
   ]
  },
  {
   "cell_type": "code",
   "execution_count": null,
   "id": "816963ff",
   "metadata": {},
   "outputs": [],
   "source": []
  }
 ],
 "metadata": {
  "kernelspec": {
   "display_name": "PythonData",
   "language": "python",
   "name": "pythondata"
  },
  "language_info": {
   "codemirror_mode": {
    "name": "ipython",
    "version": 3
   },
   "file_extension": ".py",
   "mimetype": "text/x-python",
   "name": "python",
   "nbconvert_exporter": "python",
   "pygments_lexer": "ipython3",
   "version": "3.7.9"
  }
 },
 "nbformat": 4,
 "nbformat_minor": 5
}
