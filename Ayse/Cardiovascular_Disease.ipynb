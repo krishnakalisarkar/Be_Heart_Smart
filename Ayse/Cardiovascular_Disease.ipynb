{
 "cells": [
  {
   "cell_type": "code",
   "execution_count": null,
   "metadata": {
    "colab": {
     "base_uri": "https://localhost:8080/"
    },
    "id": "Z6H_q24zMXyY",
    "outputId": "3df5bb2c-69a1-49a0-b3fc-07a31267d1bc"
   },
   "outputs": [],
   "source": [
    "import os\n",
    "# Find the latest version of spark 3.0 from http://www.apache.org/dist/spark/ and enter as the spark version\n",
    "# For example:\n",
    "# spark_version = 'spark-3.0.3'\n",
    "spark_version = 'spark-3.0.3'\n",
    "os.environ['SPARK_VERSION']=spark_version\n",
    "\n",
    "# Install Spark and Java\n",
    "!apt-get update\n",
    "!apt-get install openjdk-11-jdk-headless -qq > /dev/null\n",
    "!wget -q http://www.apache.org/dist/spark/$SPARK_VERSION/$SPARK_VERSION-bin-hadoop2.7.tgz\n",
    "!tar xf $SPARK_VERSION-bin-hadoop2.7.tgz\n",
    "!pip install -q findspark\n",
    "\n",
    "# Set Environment Variables\n",
    "import os\n",
    "os.environ[\"JAVA_HOME\"] = \"/usr/lib/jvm/java-11-openjdk-amd64\"\n",
    "os.environ[\"SPARK_HOME\"] = f\"/content/{spark_version}-bin-hadoop2.7\"\n",
    "\n",
    "# Start a SparkSession\n",
    "import findspark\n",
    "findspark.init()"
   ]
  },
  {
   "cell_type": "code",
   "execution_count": null,
   "metadata": {
    "id": "_vda2MprOks9"
   },
   "outputs": [],
   "source": [
    "from pyspark.sql import SparkSession\n",
    "spark = SparkSession.builder.appName(\"Cardio_Data_CleanUp\").getOrCreate()"
   ]
  },
  {
   "cell_type": "markdown",
   "metadata": {
    "id": "fNEsmQ-RPOOr"
   },
   "source": [
    "### Load Data into Spark DataFrame"
   ]
  },
  {
   "cell_type": "code",
   "execution_count": null,
   "metadata": {
    "colab": {
     "base_uri": "https://localhost:8080/",
     "height": 35
    },
    "id": "4B9twef4tuJT",
    "outputId": "8d977de9-3a5e-4811-8422-e75469872b24"
   },
   "outputs": [],
   "source": [
    "import os\n",
    "os.getcwd()"
   ]
  },
  {
   "cell_type": "code",
   "execution_count": null,
   "metadata": {
    "colab": {
     "base_uri": "https://localhost:8080/"
    },
    "id": "TzsqBqxRVv1K",
    "outputId": "d30b450e-9cb1-4427-c939-fcad01cf1ee8"
   },
   "outputs": [],
   "source": [
    "from pyspark import SparkFiles\n",
    "csv_file_path = \"/content/Resources/Cardio_Data.csv\"\n",
    "cardio_df_original = spark.read.csv(csv_file_path, header=True, mode=\"DROPMALFORMED\")\n",
    "cardio_df_original.show()\n",
    "cardio_df_original.printSchema()"
   ]
  },
  {
   "cell_type": "markdown",
   "metadata": {
    "id": "2tzr0XcEe4H0"
   },
   "source": [
    "### Analysis of DataFrame"
   ]
  },
  {
   "cell_type": "code",
   "execution_count": null,
   "metadata": {
    "colab": {
     "base_uri": "https://localhost:8080/"
    },
    "id": "7nA_42VEYEAQ",
    "outputId": "4f88f3fb-b767-476b-c4d1-7b4b4c7b27d2"
   },
   "outputs": [],
   "source": [
    "# Description of columns\n",
    "cardio_df_original.describe().show()"
   ]
  },
  {
   "cell_type": "code",
   "execution_count": null,
   "metadata": {
    "id": "uaz1VfrHbNsx"
   },
   "outputs": [],
   "source": [
    "# Change the column names\n",
    "cardio_df = cardio_df_original.withColumnRenamed(\"ap_hi\", \"systolic_bp\").withColumnRenamed(\"ap_lo\", \"diastolic_bp\")\n"
   ]
  },
  {
   "cell_type": "code",
   "execution_count": null,
   "metadata": {
    "colab": {
     "base_uri": "https://localhost:8080/"
    },
    "id": "MaSgSt7F5_Uj",
    "outputId": "6f3c4a98-4c46-49f1-80d0-9102d54b58dc"
   },
   "outputs": [],
   "source": [
    "cardio_df.show()"
   ]
  },
  {
   "cell_type": "code",
   "execution_count": null,
   "metadata": {
    "colab": {
     "base_uri": "https://localhost:8080/"
    },
    "id": "d-fvTxl36JNq",
    "outputId": "8012c713-f5e2-4ad9-af6a-26b9b5f1d9af"
   },
   "outputs": [],
   "source": [
    "# Check for null rows\n",
    "Dict_Null = {col:cardio_df.filter(cardio_df[col].isNull()).count() for col in cardio_df.columns}\n",
    "Dict_Null\n"
   ]
  },
  {
   "cell_type": "code",
   "execution_count": null,
   "metadata": {
    "colab": {
     "base_uri": "https://localhost:8080/"
    },
    "id": "jbwtZm0F6xx8",
    "outputId": "1bf106e0-a049-4eaa-8280-59da2902a8e2"
   },
   "outputs": [],
   "source": [
    "# Check for duplicate rows \n",
    "cardio_df.distinct().count()"
   ]
  },
  {
   "cell_type": "code",
   "execution_count": null,
   "metadata": {
    "id": "BM12CaRRfqoI"
   },
   "outputs": [],
   "source": [
    "# Check the distinct values of the categorical variables\n",
    "# https://stackoverflow.com/questions/64805788/get-distinct-values-of-multiple-columns\n",
    "from pyspark.sql.functions import collect_set\n",
    "from pyspark.sql.functions import col"
   ]
  },
  {
   "cell_type": "code",
   "execution_count": null,
   "metadata": {
    "colab": {
     "base_uri": "https://localhost:8080/"
    },
    "id": "3M5lX0V1freJ",
    "outputId": "4ab0e02d-91df-4d6a-b443-b938b1a8c813"
   },
   "outputs": [],
   "source": [
    "columns = [\"gender\", \"cholesterol\", \"gluc\", \"smoke\", \"alco\", \"active\", \"cardio\"]\n",
    "columnExprs = map(lambda c: collect_set(col(c)).alias(c), columns)\n",
    "cardio_df.select(*columnExprs).show()"
   ]
  },
  {
   "cell_type": "markdown",
   "metadata": {
    "id": "dnoKaO__fDcI"
   },
   "source": [
    "### Data Processing on continous variables"
   ]
  },
  {
   "cell_type": "code",
   "execution_count": null,
   "metadata": {
    "id": "Ic4aL_ye89ls"
   },
   "outputs": [],
   "source": [
    "# Filter based on height. Keep height between 135 - 215cm\n",
    "cardio_df = cardio_df.filter((cardio_df[\"height\"] >=135) & (cardio_df[\"height\"] <=215))"
   ]
  },
  {
   "cell_type": "code",
   "execution_count": null,
   "metadata": {
    "colab": {
     "base_uri": "https://localhost:8080/"
    },
    "id": "iDICjEu9AVTW",
    "outputId": "9156eb50-d37e-488f-d5e8-74ad8395f175"
   },
   "outputs": [],
   "source": [
    "# The shape of the dataframe after filtering out the improbable values of height\n",
    "print((cardio_df.count(), len(cardio_df.columns)))"
   ]
  },
  {
   "cell_type": "code",
   "execution_count": null,
   "metadata": {
    "id": "szLmU_LeBBzs"
   },
   "outputs": [],
   "source": [
    "# Filter based on weight. Keep height between 25 - 200kg\n",
    "cardio_df = cardio_df.filter((cardio_df[\"weight\"] >=25) & (cardio_df[\"weight\"] <=200))"
   ]
  },
  {
   "cell_type": "code",
   "execution_count": null,
   "metadata": {
    "colab": {
     "base_uri": "https://localhost:8080/"
    },
    "id": "YNMW3xLlAcYf",
    "outputId": "d62b8294-fe60-491f-a250-c34db9fa2269"
   },
   "outputs": [],
   "source": [
    "# The shape of the dataframe after filtering out the improbable values of weight\n",
    "print((cardio_df.count(), len(cardio_df.columns)))"
   ]
  },
  {
   "cell_type": "code",
   "execution_count": null,
   "metadata": {
    "id": "VxLpNxTBIxds"
   },
   "outputs": [],
   "source": [
    "# Change the signs of negative values of systolic and diastolic bp\n",
    "from pyspark.sql.functions import abs\n",
    "cardio_df = cardio_df.withColumn(\"systolic_bp\", abs(cardio_df[\"systolic_bp\"])).withColumn(\"diastolic_bp\", abs(cardio_df[\"diastolic_bp\"]))"
   ]
  },
  {
   "cell_type": "code",
   "execution_count": null,
   "metadata": {
    "colab": {
     "base_uri": "https://localhost:8080/"
    },
    "id": "8KaxF6fiSK8D",
    "outputId": "e4d52bb3-12d9-472a-f205-24c7fffa879b"
   },
   "outputs": [],
   "source": [
    "# Check for presence of negative values in the columns\n",
    "cardio_df.filter((cardio_df[\"diastolic_bp\"] <0)).groupby(\"diastolic_bp\").count().show()\n",
    "cardio_df.filter((cardio_df[\"systolic_bp\"] <0)).groupby(\"systolic_bp\").count().show()\n"
   ]
  },
  {
   "cell_type": "code",
   "execution_count": null,
   "metadata": {
    "id": "MpSaGPkmE0jS"
   },
   "outputs": [],
   "source": [
    "# Filter based on systolic_bp values between 80 and 180. \n",
    "cardio_df = cardio_df.filter((cardio_df[\"systolic_bp\"] >=80) & (cardio_df[\"systolic_bp\"] <=180))"
   ]
  },
  {
   "cell_type": "code",
   "execution_count": null,
   "metadata": {
    "id": "mVn0UtqkWo4v"
   },
   "outputs": [],
   "source": [
    "# Filter based on diastolic_bp values between 40 and 120. \n",
    "cardio_df = cardio_df.filter((cardio_df[\"diastolic_bp\"] >=40) & (cardio_df[\"diastolic_bp\"] <=120))"
   ]
  },
  {
   "cell_type": "code",
   "execution_count": null,
   "metadata": {
    "colab": {
     "base_uri": "https://localhost:8080/"
    },
    "id": "9x0WnYGeXISp",
    "outputId": "bea14293-fe66-4e97-97a4-085bae69cced"
   },
   "outputs": [],
   "source": [
    "# The shape of the dataframe after filtering out the improbable values of systolic and diastolic bp\n",
    "print((cardio_df.count(), len(cardio_df.columns)))"
   ]
  },
  {
   "cell_type": "markdown",
   "metadata": {
    "id": "97kRoBe6lYk3"
   },
   "source": [
    "### Storing data into output csv file"
   ]
  },
  {
   "cell_type": "code",
   "execution_count": null,
   "metadata": {
    "id": "lgidx1uhZpab"
   },
   "outputs": [],
   "source": [
    "# Write to output csvfile.\n",
    "# First convert to a pandas_df\n",
    "cardio_cleaned_df = cardio_df.toPandas()\n",
    "\n",
    "# Store result\n",
    "cardio_cleaned_df.to_csv(\"/content/Resources/cardio_data_cleaned.csv\")"
   ]
  },
  {
   "cell_type": "code",
   "execution_count": null,
   "metadata": {
    "id": "N8EpVHQDrm8i"
   },
   "outputs": [],
   "source": []
  }
 ],
 "metadata": {
  "colab": {
   "collapsed_sections": [],
   "name": "Cardiovascular_Disease.ipynb",
   "provenance": []
  },
  "kernelspec": {
   "display_name": "Python 3",
   "language": "python",
   "name": "python3"
  },
  "language_info": {
   "codemirror_mode": {
    "name": "ipython",
    "version": 3
   },
   "file_extension": ".py",
   "mimetype": "text/x-python",
   "name": "python",
   "nbconvert_exporter": "python",
   "pygments_lexer": "ipython3",
   "version": "3.7.10"
  }
 },
 "nbformat": 4,
 "nbformat_minor": 1
}
