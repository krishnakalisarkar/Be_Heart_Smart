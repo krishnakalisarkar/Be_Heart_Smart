{
 "cells": [
  {
   "cell_type": "code",
   "execution_count": null,
   "id": "65631d00",
   "metadata": {},
   "outputs": [],
   "source": [
    "\n",
    "import pandas as pd\n"
   ]
  },
  {
   "cell_type": "code",
   "execution_count": null,
   "id": "83aa692c",
   "metadata": {},
   "outputs": [],
   "source": [
    "cardio_info_to_load = \"C:\\\\Users\\pampe\\Desktop\\Final_project_group7\\cardio_train.csv\"\n"
   ]
  },
  {
   "cell_type": "code",
   "execution_count": null,
   "id": "edd11257",
   "metadata": {},
   "outputs": [],
   "source": [
    "cardio_data_df = pd.read_csv(cardio_info_to_load )\n",
    "cardio_data_df.head()"
   ]
  },
  {
   "cell_type": "code",
   "execution_count": null,
   "id": "8abb627d",
   "metadata": {},
   "outputs": [],
   "source": [
    "cardio_data_df.count()"
   ]
  },
  {
   "cell_type": "code",
   "execution_count": null,
   "id": "935df265",
   "metadata": {},
   "outputs": [],
   "source": [
    "cardio_data_df.dtypes"
   ]
  },
  {
   "cell_type": "code",
   "execution_count": null,
   "id": "d65376b9",
   "metadata": {},
   "outputs": [],
   "source": []
  }
 ],
 "metadata": {
  "kernelspec": {
   "display_name": "Python 3",
   "language": "python",
   "name": "python3"
  },
  "language_info": {
   "codemirror_mode": {
    "name": "ipython",
    "version": 3
   },
   "file_extension": ".py",
   "mimetype": "text/x-python",
   "name": "python",
   "nbconvert_exporter": "python",
   "pygments_lexer": "ipython3",
   "version": "3.7.10"
  }
 },
 "nbformat": 4,
 "nbformat_minor": 5
}
