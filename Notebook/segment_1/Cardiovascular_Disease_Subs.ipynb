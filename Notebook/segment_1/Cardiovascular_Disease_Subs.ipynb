{
  "nbformat": 4,
  "nbformat_minor": 0,
  "metadata": {
    "colab": {
      "name": "Cardiovascular_Disease.ipynb",
      "provenance": [],
      "collapsed_sections": []
    },
    "kernelspec": {
      "name": "python3",
      "display_name": "Python 3"
    },
    "language_info": {
      "name": "python"
    }
  },
  "cells": [
    {
      "cell_type": "code",
      "metadata": {
        "colab": {
          "base_uri": "https://localhost:8080/"
        },
        "id": "Z6H_q24zMXyY",
        "outputId": "3df5bb2c-69a1-49a0-b3fc-07a31267d1bc"
      },
      "source": [
        "import os\n",
        "# Find the latest version of spark 3.0 from http://www.apache.org/dist/spark/ and enter as the spark version\n",
        "# For example:\n",
        "# spark_version = 'spark-3.0.3'\n",
        "spark_version = 'spark-3.0.3'\n",
        "os.environ['SPARK_VERSION']=spark_version\n",
        "\n",
        "# Install Spark and Java\n",
        "!apt-get update\n",
        "!apt-get install openjdk-11-jdk-headless -qq > /dev/null\n",
        "!wget -q http://www.apache.org/dist/spark/$SPARK_VERSION/$SPARK_VERSION-bin-hadoop2.7.tgz\n",
        "!tar xf $SPARK_VERSION-bin-hadoop2.7.tgz\n",
        "!pip install -q findspark\n",
        "\n",
        "# Set Environment Variables\n",
        "import os\n",
        "os.environ[\"JAVA_HOME\"] = \"/usr/lib/jvm/java-11-openjdk-amd64\"\n",
        "os.environ[\"SPARK_HOME\"] = f\"/content/{spark_version}-bin-hadoop2.7\"\n",
        "\n",
        "# Start a SparkSession\n",
        "import findspark\n",
        "findspark.init()"
      ],
      "execution_count": null,
      "outputs": [
        {
          "output_type": "stream",
          "name": "stdout",
          "text": [
            "\r0% [Working]\r            \rGet:1 http://security.ubuntu.com/ubuntu bionic-security InRelease [88.7 kB]\n",
            "\r0% [Connecting to archive.ubuntu.com (91.189.88.142)] [1 InRelease 14.2 kB/88.7\r                                                                               \rGet:2 https://cloud.r-project.org/bin/linux/ubuntu bionic-cran40/ InRelease [3,626 B]\n",
            "Ign:3 https://developer.download.nvidia.com/compute/cuda/repos/ubuntu1804/x86_64  InRelease\n",
            "Ign:4 https://developer.download.nvidia.com/compute/machine-learning/repos/ubuntu1804/x86_64  InRelease\n",
            "Get:5 http://ppa.launchpad.net/c2d4u.team/c2d4u4.0+/ubuntu bionic InRelease [15.9 kB]\n",
            "Get:6 https://developer.download.nvidia.com/compute/cuda/repos/ubuntu1804/x86_64  Release [696 B]\n",
            "Hit:7 https://developer.download.nvidia.com/compute/machine-learning/repos/ubuntu1804/x86_64  Release\n",
            "Hit:8 http://archive.ubuntu.com/ubuntu bionic InRelease\n",
            "Get:9 https://developer.download.nvidia.com/compute/cuda/repos/ubuntu1804/x86_64  Release.gpg [836 B]\n",
            "Get:10 http://archive.ubuntu.com/ubuntu bionic-updates InRelease [88.7 kB]\n",
            "Hit:11 http://ppa.launchpad.net/cran/libgit2/ubuntu bionic InRelease\n",
            "Get:12 http://security.ubuntu.com/ubuntu bionic-security/main amd64 Packages [2,295 kB]\n",
            "Hit:13 http://ppa.launchpad.net/deadsnakes/ppa/ubuntu bionic InRelease\n",
            "Get:14 http://archive.ubuntu.com/ubuntu bionic-backports InRelease [74.6 kB]\n",
            "Hit:16 http://ppa.launchpad.net/graphics-drivers/ppa/ubuntu bionic InRelease\n",
            "Get:17 https://developer.download.nvidia.com/compute/cuda/repos/ubuntu1804/x86_64  Packages [715 kB]\n",
            "Get:18 http://ppa.launchpad.net/c2d4u.team/c2d4u4.0+/ubuntu bionic/main Sources [1,796 kB]\n",
            "Get:19 http://archive.ubuntu.com/ubuntu bionic-updates/restricted amd64 Packages [594 kB]\n",
            "Get:20 http://archive.ubuntu.com/ubuntu bionic-updates/universe amd64 Packages [2,202 kB]\n",
            "Get:21 http://ppa.launchpad.net/c2d4u.team/c2d4u4.0+/ubuntu bionic/main amd64 Packages [919 kB]\n",
            "Get:22 http://archive.ubuntu.com/ubuntu bionic-updates/main amd64 Packages [2,755 kB]\n",
            "Fetched 11.5 MB in 3s (3,376 kB/s)\n",
            "Reading package lists... Done\n"
          ]
        }
      ]
    },
    {
      "cell_type": "code",
      "metadata": {
        "id": "_vda2MprOks9"
      },
      "source": [
        "from pyspark.sql import SparkSession\n",
        "spark = SparkSession.builder.appName(\"Cardio_Data_CleanUp\").getOrCreate()"
      ],
      "execution_count": null,
      "outputs": []
    },
    {
      "cell_type": "markdown",
      "metadata": {
        "id": "fNEsmQ-RPOOr"
      },
      "source": [
        "### Load Data into Spark DataFrame"
      ]
    },
    {
      "cell_type": "code",
      "metadata": {
        "colab": {
          "base_uri": "https://localhost:8080/",
          "height": 35
        },
        "id": "4B9twef4tuJT",
        "outputId": "8d977de9-3a5e-4811-8422-e75469872b24"
      },
      "source": [
        "import os\n",
        "os.getcwd()"
      ],
      "execution_count": 106,
      "outputs": [
        {
          "output_type": "execute_result",
          "data": {
            "application/vnd.google.colaboratory.intrinsic+json": {
              "type": "string"
            },
            "text/plain": [
              "'/content'"
            ]
          },
          "metadata": {},
          "execution_count": 106
        }
      ]
    },
    {
      "cell_type": "code",
      "metadata": {
        "colab": {
          "base_uri": "https://localhost:8080/"
        },
        "id": "TzsqBqxRVv1K",
        "outputId": "d30b450e-9cb1-4427-c939-fcad01cf1ee8"
      },
      "source": [
        "from pyspark import SparkFiles\n",
        "csv_file_path = \"/content/Resources/Cardio_Data.csv\"\n",
        "cardio_df_original = spark.read.csv(csv_file_path, header=True, mode=\"DROPMALFORMED\")\n",
        "cardio_df_original.show()\n",
        "cardio_df_original.printSchema()"
      ],
      "execution_count": 28,
      "outputs": [
        {
          "output_type": "stream",
          "name": "stdout",
          "text": [
            "+-----+-----+------+------+------+-----+-----+-----------+----+-----+----+------+------+\n",
            "|   id|  age|gender|height|weight|ap_hi|ap_lo|cholesterol|gluc|smoke|alco|active|cardio|\n",
            "+-----+-----+------+------+------+-----+-----+-----------+----+-----+----+------+------+\n",
            "|82567|18804|     2|   165|    10|  180| 1100|          2|   2|    0|   0|     1|     1|\n",
            "|48318|21582|     2|   178|    11|  130|   90|          1|   1|    0|   0|     1|     1|\n",
            "|85931|21855|     1|   162|    21|  120|   80|          2|   1|    0|   0|     1|     1|\n",
            "|42156|20408|     2|   177|    22|  120|   80|          1|   1|    1|   1|     1|     0|\n",
            "|38312|23284|     1|   157|    23|  110|   80|          1|   1|    0|   0|     1|     0|\n",
            "|48976|14664|     2|   128|    28|  120|   80|          1|   1|    0|   0|     1|     0|\n",
            "|86650|18875|     1|   171|    29|  110|   70|          2|   1|    0|   0|     1|     1|\n",
            "| 5306|15400|     1|   120|    30|  110|   70|          1|   1|    0|   0|     1|     0|\n",
            "|26503|18140|     1|   160|    30|  120|   80|          1|   1|    0|   0|     1|     1|\n",
            "|59853|21334|     1|   143|    30|  103|   61|          2|   1|    0|   0|     1|     0|\n",
            "|24167|17272|     2|   170|    31|  150|   90|          2|   2|    0|   0|     1|     1|\n",
            "|31439|15359|     1|   146|    32|  100|   70|          1|   1|    0|   0|     0|     0|\n",
            "|50443|19802|     1|   146|    32|  130|   80|          1|   2|    0|   0|     0|     0|\n",
            "|54851|21809|     1|   154|    32|  110|   60|          1|   1|    0|   0|     1|     0|\n",
            "|68667|19255|     1|   143|    33|  100|   60|          1|   1|    0|   0|     1|     0|\n",
            "|92896|22688|     1|   145|    33|  130| 1000|          2|   1|    0|   0|     1|     1|\n",
            "|21040|22663|     1|   143|    34|  100|   70|          1|   1|    0|   0|     1|     0|\n",
            "|47872|21081|     1|   153|    34|  110|   70|          3|   3|    0|   0|     1|     1|\n",
            "|73914|19817|     2|   139|    34|  120|   70|          1|   1|    0|   0|     1|     0|\n",
            "|79686|23370|     1|   152|    34|  140|   90|          1|   1|    0|   0|     1|     1|\n",
            "+-----+-----+------+------+------+-----+-----+-----------+----+-----+----+------+------+\n",
            "only showing top 20 rows\n",
            "\n",
            "root\n",
            " |-- id: string (nullable = true)\n",
            " |-- age: string (nullable = true)\n",
            " |-- gender: string (nullable = true)\n",
            " |-- height: string (nullable = true)\n",
            " |-- weight: string (nullable = true)\n",
            " |-- ap_hi: string (nullable = true)\n",
            " |-- ap_lo: string (nullable = true)\n",
            " |-- cholesterol: string (nullable = true)\n",
            " |-- gluc: string (nullable = true)\n",
            " |-- smoke: string (nullable = true)\n",
            " |-- alco: string (nullable = true)\n",
            " |-- active: string (nullable = true)\n",
            " |-- cardio: string (nullable = true)\n",
            "\n"
          ]
        }
      ]
    },
    {
      "cell_type": "markdown",
      "metadata": {
        "id": "2tzr0XcEe4H0"
      },
      "source": [
        "### Analysis of DataFrame"
      ]
    },
    {
      "cell_type": "code",
      "metadata": {
        "colab": {
          "base_uri": "https://localhost:8080/"
        },
        "id": "7nA_42VEYEAQ",
        "outputId": "4f88f3fb-b767-476b-c4d1-7b4b4c7b27d2"
      },
      "source": [
        "# Description of columns\n",
        "cardio_df_original.describe().show()"
      ],
      "execution_count": 5,
      "outputs": [
        {
          "output_type": "stream",
          "name": "stdout",
          "text": [
            "+-------+------------------+------------------+------------------+------------------+------------------+------------------+------------------+------------------+------------------+-------------------+--------------------+-------------------+------------------+\n",
            "|summary|                id|               age|            gender|            height|            weight|             ap_hi|             ap_lo|       cholesterol|              gluc|              smoke|                alco|             active|            cardio|\n",
            "+-------+------------------+------------------+------------------+------------------+------------------+------------------+------------------+------------------+------------------+-------------------+--------------------+-------------------+------------------+\n",
            "|  count|             70000|             70000|             70000|             70000|             70000|             70000|             70000|             70000|             70000|              70000|               70000|              70000|             70000|\n",
            "|   mean|        49972.4199|19468.865814285713|1.3495714285714286|164.35922857142856| 74.20568999999998| 128.8172857142857| 96.63041428571428|1.3668714285714285| 1.226457142857143|0.08812857142857143|0.053771428571428574| 0.8037285714285715|            0.4997|\n",
            "| stddev|28851.302323172928|2467.2516672413917|0.4768380155828605| 8.210126364538551|14.395756678511473|154.01141945609032|188.47253029639106|0.6802503486993816|0.5722702766138459|0.28348381676993606| 0.22556770360410533|0.39717906350492743|0.5000034814661873|\n",
            "|    min|                 0|             10798|                 1|               100|                10|              -100|               -70|                 1|                 1|                  0|                   0|                  0|                 0|\n",
            "|    max|             99999|             23713|                 2|                99|              99.9|                99|                99|                 3|                 3|                  1|                   1|                  1|                 1|\n",
            "+-------+------------------+------------------+------------------+------------------+------------------+------------------+------------------+------------------+------------------+-------------------+--------------------+-------------------+------------------+\n",
            "\n"
          ]
        }
      ]
    },
    {
      "cell_type": "code",
      "metadata": {
        "id": "uaz1VfrHbNsx"
      },
      "source": [
        "# Change the column names\n",
        "cardio_df = cardio_df_original.withColumnRenamed(\"ap_hi\", \"systolic_bp\").withColumnRenamed(\"ap_lo\", \"diastolic_bp\")\n"
      ],
      "execution_count": 29,
      "outputs": []
    },
    {
      "cell_type": "code",
      "metadata": {
        "colab": {
          "base_uri": "https://localhost:8080/"
        },
        "id": "MaSgSt7F5_Uj",
        "outputId": "6f3c4a98-4c46-49f1-80d0-9102d54b58dc"
      },
      "source": [
        "cardio_df.show()"
      ],
      "execution_count": 30,
      "outputs": [
        {
          "output_type": "stream",
          "name": "stdout",
          "text": [
            "+-----+-----+------+------+------+-----------+------------+-----------+----+-----+----+------+------+\n",
            "|   id|  age|gender|height|weight|systolic_bp|diastolic_bp|cholesterol|gluc|smoke|alco|active|cardio|\n",
            "+-----+-----+------+------+------+-----------+------------+-----------+----+-----+----+------+------+\n",
            "|82567|18804|     2|   165|    10|        180|        1100|          2|   2|    0|   0|     1|     1|\n",
            "|48318|21582|     2|   178|    11|        130|          90|          1|   1|    0|   0|     1|     1|\n",
            "|85931|21855|     1|   162|    21|        120|          80|          2|   1|    0|   0|     1|     1|\n",
            "|42156|20408|     2|   177|    22|        120|          80|          1|   1|    1|   1|     1|     0|\n",
            "|38312|23284|     1|   157|    23|        110|          80|          1|   1|    0|   0|     1|     0|\n",
            "|48976|14664|     2|   128|    28|        120|          80|          1|   1|    0|   0|     1|     0|\n",
            "|86650|18875|     1|   171|    29|        110|          70|          2|   1|    0|   0|     1|     1|\n",
            "| 5306|15400|     1|   120|    30|        110|          70|          1|   1|    0|   0|     1|     0|\n",
            "|26503|18140|     1|   160|    30|        120|          80|          1|   1|    0|   0|     1|     1|\n",
            "|59853|21334|     1|   143|    30|        103|          61|          2|   1|    0|   0|     1|     0|\n",
            "|24167|17272|     2|   170|    31|        150|          90|          2|   2|    0|   0|     1|     1|\n",
            "|31439|15359|     1|   146|    32|        100|          70|          1|   1|    0|   0|     0|     0|\n",
            "|50443|19802|     1|   146|    32|        130|          80|          1|   2|    0|   0|     0|     0|\n",
            "|54851|21809|     1|   154|    32|        110|          60|          1|   1|    0|   0|     1|     0|\n",
            "|68667|19255|     1|   143|    33|        100|          60|          1|   1|    0|   0|     1|     0|\n",
            "|92896|22688|     1|   145|    33|        130|        1000|          2|   1|    0|   0|     1|     1|\n",
            "|21040|22663|     1|   143|    34|        100|          70|          1|   1|    0|   0|     1|     0|\n",
            "|47872|21081|     1|   153|    34|        110|          70|          3|   3|    0|   0|     1|     1|\n",
            "|73914|19817|     2|   139|    34|        120|          70|          1|   1|    0|   0|     1|     0|\n",
            "|79686|23370|     1|   152|    34|        140|          90|          1|   1|    0|   0|     1|     1|\n",
            "+-----+-----+------+------+------+-----------+------------+-----------+----+-----+----+------+------+\n",
            "only showing top 20 rows\n",
            "\n"
          ]
        }
      ]
    },
    {
      "cell_type": "code",
      "metadata": {
        "colab": {
          "base_uri": "https://localhost:8080/"
        },
        "id": "d-fvTxl36JNq",
        "outputId": "8012c713-f5e2-4ad9-af6a-26b9b5f1d9af"
      },
      "source": [
        "# Check for null rows\n",
        "Dict_Null = {col:cardio_df.filter(cardio_df[col].isNull()).count() for col in cardio_df.columns}\n",
        "Dict_Null\n"
      ],
      "execution_count": 31,
      "outputs": [
        {
          "output_type": "execute_result",
          "data": {
            "text/plain": [
              "{'active': 0,\n",
              " 'age': 0,\n",
              " 'alco': 0,\n",
              " 'cardio': 0,\n",
              " 'cholesterol': 0,\n",
              " 'diastolic_bp': 0,\n",
              " 'gender': 0,\n",
              " 'gluc': 0,\n",
              " 'height': 0,\n",
              " 'id': 0,\n",
              " 'smoke': 0,\n",
              " 'systolic_bp': 0,\n",
              " 'weight': 0}"
            ]
          },
          "metadata": {},
          "execution_count": 31
        }
      ]
    },
    {
      "cell_type": "code",
      "metadata": {
        "colab": {
          "base_uri": "https://localhost:8080/"
        },
        "id": "jbwtZm0F6xx8",
        "outputId": "1bf106e0-a049-4eaa-8280-59da2902a8e2"
      },
      "source": [
        "# Check for duplicate rows \n",
        "cardio_df.distinct().count()"
      ],
      "execution_count": 32,
      "outputs": [
        {
          "output_type": "execute_result",
          "data": {
            "text/plain": [
              "70000"
            ]
          },
          "metadata": {},
          "execution_count": 32
        }
      ]
    },
    {
      "cell_type": "code",
      "metadata": {
        "id": "BM12CaRRfqoI"
      },
      "source": [
        "# Check the distinct values of the categorical variables\n",
        "# https://stackoverflow.com/questions/64805788/get-distinct-values-of-multiple-columns\n",
        "from pyspark.sql.functions import collect_set\n",
        "from pyspark.sql.functions import col"
      ],
      "execution_count": 97,
      "outputs": []
    },
    {
      "cell_type": "code",
      "metadata": {
        "colab": {
          "base_uri": "https://localhost:8080/"
        },
        "id": "3M5lX0V1freJ",
        "outputId": "4ab0e02d-91df-4d6a-b443-b938b1a8c813"
      },
      "source": [
        "columns = [\"gender\", \"cholesterol\", \"gluc\", \"smoke\", \"alco\", \"active\", \"cardio\"]\n",
        "columnExprs = map(lambda c: collect_set(col(c)).alias(c), columns)\n",
        "cardio_df.select(*columnExprs).show()"
      ],
      "execution_count": 99,
      "outputs": [
        {
          "output_type": "stream",
          "name": "stdout",
          "text": [
            "+------+-----------+---------+------+------+------+------+\n",
            "|gender|cholesterol|     gluc| smoke|  alco|active|cardio|\n",
            "+------+-----------+---------+------+------+------+------+\n",
            "|[1, 2]|  [3, 1, 2]|[3, 1, 2]|[1, 0]|[1, 0]|[1, 0]|[1, 0]|\n",
            "+------+-----------+---------+------+------+------+------+\n",
            "\n"
          ]
        }
      ]
    },
    {
      "cell_type": "markdown",
      "metadata": {
        "id": "dnoKaO__fDcI"
      },
      "source": [
        "### Data Processing on continous variables"
      ]
    },
    {
      "cell_type": "code",
      "metadata": {
        "id": "Ic4aL_ye89ls"
      },
      "source": [
        "# Filter based on height. Keep height between 135 - 215cm\n",
        "cardio_df = cardio_df.filter((cardio_df[\"height\"] >=135) & (cardio_df[\"height\"] <=215))"
      ],
      "execution_count": 39,
      "outputs": []
    },
    {
      "cell_type": "code",
      "metadata": {
        "colab": {
          "base_uri": "https://localhost:8080/"
        },
        "id": "iDICjEu9AVTW",
        "outputId": "9156eb50-d37e-488f-d5e8-74ad8395f175"
      },
      "source": [
        "# The shape of the dataframe after filtering out the improbable values of height\n",
        "print((cardio_df.count(), len(cardio_df.columns)))"
      ],
      "execution_count": 42,
      "outputs": [
        {
          "output_type": "stream",
          "name": "stdout",
          "text": [
            "(69883, 13)\n"
          ]
        }
      ]
    },
    {
      "cell_type": "code",
      "metadata": {
        "id": "szLmU_LeBBzs"
      },
      "source": [
        "# Filter based on weight. Keep height between 25 - 200kg\n",
        "cardio_df = cardio_df.filter((cardio_df[\"weight\"] >=25) & (cardio_df[\"weight\"] <=200))"
      ],
      "execution_count": 43,
      "outputs": []
    },
    {
      "cell_type": "code",
      "metadata": {
        "colab": {
          "base_uri": "https://localhost:8080/"
        },
        "id": "YNMW3xLlAcYf",
        "outputId": "d62b8294-fe60-491f-a250-c34db9fa2269"
      },
      "source": [
        "# The shape of the dataframe after filtering out the improbable values of weight\n",
        "print((cardio_df.count(), len(cardio_df.columns)))"
      ],
      "execution_count": 68,
      "outputs": [
        {
          "output_type": "stream",
          "name": "stdout",
          "text": [
            "(69878, 13)\n"
          ]
        }
      ]
    },
    {
      "cell_type": "code",
      "metadata": {
        "id": "VxLpNxTBIxds"
      },
      "source": [
        "# Change the signs of negative values of systolic and diastolic bp\n",
        "from pyspark.sql.functions import abs\n",
        "cardio_df = cardio_df.withColumn(\"systolic_bp\", abs(cardio_df[\"systolic_bp\"])).withColumn(\"diastolic_bp\", abs(cardio_df[\"diastolic_bp\"]))"
      ],
      "execution_count": 66,
      "outputs": []
    },
    {
      "cell_type": "code",
      "metadata": {
        "colab": {
          "base_uri": "https://localhost:8080/"
        },
        "id": "8KaxF6fiSK8D",
        "outputId": "e4d52bb3-12d9-472a-f205-24c7fffa879b"
      },
      "source": [
        "# Check for presence of negative values in the columns\n",
        "cardio_df.filter((cardio_df[\"diastolic_bp\"] <0)).groupby(\"diastolic_bp\").count().show()\n",
        "cardio_df.filter((cardio_df[\"systolic_bp\"] <0)).groupby(\"systolic_bp\").count().show()\n"
      ],
      "execution_count": 67,
      "outputs": [
        {
          "output_type": "stream",
          "name": "stdout",
          "text": [
            "+------------+-----+\n",
            "|diastolic_bp|count|\n",
            "+------------+-----+\n",
            "+------------+-----+\n",
            "\n",
            "+-----------+-----+\n",
            "|systolic_bp|count|\n",
            "+-----------+-----+\n",
            "+-----------+-----+\n",
            "\n"
          ]
        }
      ]
    },
    {
      "cell_type": "code",
      "metadata": {
        "id": "MpSaGPkmE0jS"
      },
      "source": [
        "# Filter based on systolic_bp values between 80 and 180. \n",
        "cardio_df = cardio_df.filter((cardio_df[\"systolic_bp\"] >=80) & (cardio_df[\"systolic_bp\"] <=180))"
      ],
      "execution_count": 87,
      "outputs": []
    },
    {
      "cell_type": "code",
      "metadata": {
        "id": "mVn0UtqkWo4v"
      },
      "source": [
        "# Filter based on diastolic_bp values between 40 and 120. \n",
        "cardio_df = cardio_df.filter((cardio_df[\"diastolic_bp\"] >=40) & (cardio_df[\"diastolic_bp\"] <=120))"
      ],
      "execution_count": 88,
      "outputs": []
    },
    {
      "cell_type": "code",
      "metadata": {
        "colab": {
          "base_uri": "https://localhost:8080/"
        },
        "id": "9x0WnYGeXISp",
        "outputId": "bea14293-fe66-4e97-97a4-085bae69cced"
      },
      "source": [
        "# The shape of the dataframe after filtering out the improbable values of systolic and diastolic bp\n",
        "print((cardio_df.count(), len(cardio_df.columns)))"
      ],
      "execution_count": 89,
      "outputs": [
        {
          "output_type": "stream",
          "name": "stdout",
          "text": [
            "(68297, 13)\n"
          ]
        }
      ]
    },
    {
      "cell_type": "markdown",
      "metadata": {
        "id": "97kRoBe6lYk3"
      },
      "source": [
        "### Storing data into output csv file"
      ]
    },
    {
      "cell_type": "code",
      "metadata": {
        "id": "lgidx1uhZpab"
      },
      "source": [
        "# Write to output csvfile.\n",
        "# First convert to a pandas_df\n",
        "cardio_cleaned_df = cardio_df.toPandas()\n",
        "\n",
        "# Store result\n",
        "cardio_cleaned_df.to_csv(\"/content/Resources/cardio_data_cleaned.csv\")"
      ],
      "execution_count": 105,
      "outputs": []
    },
    {
      "cell_type": "code",
      "metadata": {
        "id": "N8EpVHQDrm8i"
      },
      "source": [
        ""
      ],
      "execution_count": null,
      "outputs": []
    }
  ]
}