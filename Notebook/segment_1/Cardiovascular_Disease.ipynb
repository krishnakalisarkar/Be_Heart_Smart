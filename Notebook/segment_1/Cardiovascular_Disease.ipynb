{
  "nbformat": 4,
  "nbformat_minor": 0,
  "metadata": {
    "colab": {
      "name": "Cardiovascular_Disease.ipynb",
      "provenance": [],
      "collapsed_sections": []
    },
    "kernelspec": {
      "name": "python3",
      "display_name": "Python 3"
    },
    "language_info": {
      "name": "python"
    }
  },
  "cells": [
    {
      "cell_type": "code",
      "metadata": {
        "colab": {
          "base_uri": "https://localhost:8080/"
        },
        "id": "Z6H_q24zMXyY",
        "outputId": "c86d7b60-3e48-4592-8282-1a9f66cf51db"
      },
      "source": [
        "import os\n",
        "# Find the latest version of spark 3.0 from http://www.apache.org/dist/spark/ and enter as the spark version\n",
        "# For example:\n",
        "# spark_version = 'spark-3.0.3'\n",
        "spark_version = 'spark-3.0.3'\n",
        "os.environ['SPARK_VERSION']=spark_version\n",
        "\n",
        "# Install Spark and Java\n",
        "!apt-get update\n",
        "!apt-get install openjdk-11-jdk-headless -qq > /dev/null\n",
        "!wget -q http://www.apache.org/dist/spark/$SPARK_VERSION/$SPARK_VERSION-bin-hadoop2.7.tgz\n",
        "!tar xf $SPARK_VERSION-bin-hadoop2.7.tgz\n",
        "!pip install -q findspark\n",
        "\n",
        "# Set Environment Variables\n",
        "import os\n",
        "os.environ[\"JAVA_HOME\"] = \"/usr/lib/jvm/java-11-openjdk-amd64\"\n",
        "os.environ[\"SPARK_HOME\"] = f\"/content/{spark_version}-bin-hadoop2.7\"\n",
        "\n",
        "# Start a SparkSession\n",
        "import findspark\n",
        "findspark.init()"
      ],
      "execution_count": 2,
      "outputs": [
        {
          "output_type": "stream",
          "name": "stdout",
          "text": [
            "\r0% [Working]\r            \rGet:1 https://cloud.r-project.org/bin/linux/ubuntu bionic-cran40/ InRelease [3,626 B]\n",
            "\r0% [Connecting to archive.ubuntu.com] [Waiting for headers] [1 InRelease 0 B/3,\r0% [Connecting to archive.ubuntu.com] [Waiting for headers] [Connecting to ppa.\r                                                                               \rIgn:2 https://developer.download.nvidia.com/compute/cuda/repos/ubuntu1804/x86_64  InRelease\n",
            "\r0% [Connecting to archive.ubuntu.com] [Waiting for headers] [Connecting to ppa.\r0% [1 InRelease gpgv 3,626 B] [Connecting to archive.ubuntu.com] [Waiting for h\r                                                                               \rIgn:3 https://developer.download.nvidia.com/compute/machine-learning/repos/ubuntu1804/x86_64  InRelease\n",
            "\r0% [1 InRelease gpgv 3,626 B] [Connecting to archive.ubuntu.com] [Waiting for h\r                                                                               \rGet:4 https://developer.download.nvidia.com/compute/cuda/repos/ubuntu1804/x86_64  Release [696 B]\n",
            "\r0% [1 InRelease gpgv 3,626 B] [Connecting to archive.ubuntu.com] [Waiting for h\r                                                                               \rGet:5 http://security.ubuntu.com/ubuntu bionic-security InRelease [88.7 kB]\n",
            "\r0% [1 InRelease gpgv 3,626 B] [Connecting to archive.ubuntu.com] [5 InRelease 1\r                                                                               \rHit:6 https://developer.download.nvidia.com/compute/machine-learning/repos/ubuntu1804/x86_64  Release\n",
            "Get:7 https://developer.download.nvidia.com/compute/cuda/repos/ubuntu1804/x86_64  Release.gpg [836 B]\n",
            "Get:8 http://ppa.launchpad.net/c2d4u.team/c2d4u4.0+/ubuntu bionic InRelease [15.9 kB]\n",
            "Hit:9 http://archive.ubuntu.com/ubuntu bionic InRelease\n",
            "Get:10 http://archive.ubuntu.com/ubuntu bionic-updates InRelease [88.7 kB]\n",
            "Hit:12 http://ppa.launchpad.net/cran/libgit2/ubuntu bionic InRelease\n",
            "Get:13 https://developer.download.nvidia.com/compute/cuda/repos/ubuntu1804/x86_64  Packages [717 kB]\n",
            "Hit:14 http://ppa.launchpad.net/deadsnakes/ppa/ubuntu bionic InRelease\n",
            "Get:15 http://archive.ubuntu.com/ubuntu bionic-backports InRelease [74.6 kB]\n",
            "Get:16 http://security.ubuntu.com/ubuntu bionic-security/main amd64 Packages [2,320 kB]\n",
            "Hit:17 http://ppa.launchpad.net/graphics-drivers/ppa/ubuntu bionic InRelease\n",
            "Get:18 http://ppa.launchpad.net/c2d4u.team/c2d4u4.0+/ubuntu bionic/main Sources [1,796 kB]\n",
            "Get:19 http://security.ubuntu.com/ubuntu bionic-security/universe amd64 Packages [1,428 kB]\n",
            "Get:20 http://security.ubuntu.com/ubuntu bionic-security/restricted amd64 Packages [560 kB]\n",
            "Get:21 http://archive.ubuntu.com/ubuntu bionic-updates/restricted amd64 Packages [593 kB]\n",
            "Get:22 http://ppa.launchpad.net/c2d4u.team/c2d4u4.0+/ubuntu bionic/main amd64 Packages [919 kB]\n",
            "Get:23 http://archive.ubuntu.com/ubuntu bionic-updates/universe amd64 Packages [2,202 kB]\n",
            "Get:24 http://archive.ubuntu.com/ubuntu bionic-updates/main amd64 Packages [2,755 kB]\n",
            "Fetched 13.6 MB in 4s (3,668 kB/s)\n",
            "Reading package lists... Done\n"
          ]
        }
      ]
    },
    {
      "cell_type": "code",
      "metadata": {
        "id": "_vda2MprOks9"
      },
      "source": [
        "from pyspark.sql import SparkSession\n",
        "spark = SparkSession.builder.appName(\"Cardio_Data_CleanUp\").getOrCreate()"
      ],
      "execution_count": 3,
      "outputs": []
    },
    {
      "cell_type": "markdown",
      "metadata": {
        "id": "fNEsmQ-RPOOr"
      },
      "source": [
        "### Load Data into Spark DataFrame"
      ]
    },
    {
      "cell_type": "code",
      "metadata": {
        "colab": {
          "base_uri": "https://localhost:8080/",
          "height": 35
        },
        "id": "4B9twef4tuJT",
        "outputId": "609d198d-0afa-4455-c596-91c36c7d8a72"
      },
      "source": [
        "import os\n",
        "os.getcwd()"
      ],
      "execution_count": 4,
      "outputs": [
        {
          "output_type": "execute_result",
          "data": {
            "application/vnd.google.colaboratory.intrinsic+json": {
              "type": "string"
            },
            "text/plain": [
              "'/content'"
            ]
          },
          "metadata": {},
          "execution_count": 4
        }
      ]
    },
    {
      "cell_type": "code",
      "metadata": {
        "colab": {
          "base_uri": "https://localhost:8080/"
        },
        "id": "TzsqBqxRVv1K",
        "outputId": "1f1f54f4-62f6-40eb-99bb-6b5613798d8c"
      },
      "source": [
        "from pyspark import SparkFiles\n",
        "csv_file_path = \"/content/Resources/Cardio_Data.csv\"\n",
        "cardio_df_original = spark.read.csv(csv_file_path, header=True)\n",
        "cardio_df_original.show()\n",
        "cardio_df_original.printSchema()"
      ],
      "execution_count": 5,
      "outputs": [
        {
          "output_type": "stream",
          "name": "stdout",
          "text": [
            "+-----+-----+------+------+------+-----+-----+-----------+----+-----+----+------+------+\n",
            "|   id|  age|gender|height|weight|ap_hi|ap_lo|cholesterol|gluc|smoke|alco|active|cardio|\n",
            "+-----+-----+------+------+------+-----+-----+-----------+----+-----+----+------+------+\n",
            "|82567|18804|     2|   165|    10|  180| 1100|          2|   2|    0|   0|     1|     1|\n",
            "|48318|21582|     2|   178|    11|  130|   90|          1|   1|    0|   0|     1|     1|\n",
            "|85931|21855|     1|   162|    21|  120|   80|          2|   1|    0|   0|     1|     1|\n",
            "|42156|20408|     2|   177|    22|  120|   80|          1|   1|    1|   1|     1|     0|\n",
            "|38312|23284|     1|   157|    23|  110|   80|          1|   1|    0|   0|     1|     0|\n",
            "|48976|14664|     2|   128|    28|  120|   80|          1|   1|    0|   0|     1|     0|\n",
            "|86650|18875|     1|   171|    29|  110|   70|          2|   1|    0|   0|     1|     1|\n",
            "| 5306|15400|     1|   120|    30|  110|   70|          1|   1|    0|   0|     1|     0|\n",
            "|26503|18140|     1|   160|    30|  120|   80|          1|   1|    0|   0|     1|     1|\n",
            "|59853|21334|     1|   143|    30|  103|   61|          2|   1|    0|   0|     1|     0|\n",
            "|24167|17272|     2|   170|    31|  150|   90|          2|   2|    0|   0|     1|     1|\n",
            "|31439|15359|     1|   146|    32|  100|   70|          1|   1|    0|   0|     0|     0|\n",
            "|50443|19802|     1|   146|    32|  130|   80|          1|   2|    0|   0|     0|     0|\n",
            "|54851|21809|     1|   154|    32|  110|   60|          1|   1|    0|   0|     1|     0|\n",
            "|68667|19255|     1|   143|    33|  100|   60|          1|   1|    0|   0|     1|     0|\n",
            "|92896|22688|     1|   145|    33|  130| 1000|          2|   1|    0|   0|     1|     1|\n",
            "|21040|22663|     1|   143|    34|  100|   70|          1|   1|    0|   0|     1|     0|\n",
            "|47872|21081|     1|   153|    34|  110|   70|          3|   3|    0|   0|     1|     1|\n",
            "|73914|19817|     2|   139|    34|  120|   70|          1|   1|    0|   0|     1|     0|\n",
            "|79686|23370|     1|   152|    34|  140|   90|          1|   1|    0|   0|     1|     1|\n",
            "+-----+-----+------+------+------+-----+-----+-----------+----+-----+----+------+------+\n",
            "only showing top 20 rows\n",
            "\n",
            "root\n",
            " |-- id: string (nullable = true)\n",
            " |-- age: string (nullable = true)\n",
            " |-- gender: string (nullable = true)\n",
            " |-- height: string (nullable = true)\n",
            " |-- weight: string (nullable = true)\n",
            " |-- ap_hi: string (nullable = true)\n",
            " |-- ap_lo: string (nullable = true)\n",
            " |-- cholesterol: string (nullable = true)\n",
            " |-- gluc: string (nullable = true)\n",
            " |-- smoke: string (nullable = true)\n",
            " |-- alco: string (nullable = true)\n",
            " |-- active: string (nullable = true)\n",
            " |-- cardio: string (nullable = true)\n",
            "\n"
          ]
        }
      ]
    },
    {
      "cell_type": "markdown",
      "metadata": {
        "id": "2tzr0XcEe4H0"
      },
      "source": [
        "### Exploratory Data Analysis "
      ]
    },
    {
      "cell_type": "code",
      "metadata": {
        "colab": {
          "base_uri": "https://localhost:8080/",
          "height": 203
        },
        "id": "e5SIyFJbmCtC",
        "outputId": "41bcb352-6918-4586-d805-dadcd2f141e9"
      },
      "source": [
        "# Change the column names to be more meaningful\n",
        "cardio_df = cardio_df_original.withColumnRenamed(\"ap_hi\", \"systolic_bp\").withColumnRenamed(\"ap_lo\", \"diastolic_bp\")\\\n",
        "                              .withColumnRenamed(\"gluc\", \"glucose\").withColumnRenamed(\"smoke\", \"smoker\")\\\n",
        "                              .withColumnRenamed(\"alco\", \"alcohol_intake\")\n",
        "cardio_df.toPandas().head(5)"
      ],
      "execution_count": 6,
      "outputs": [
        {
          "output_type": "execute_result",
          "data": {
            "text/html": [
              "<div>\n",
              "<style scoped>\n",
              "    .dataframe tbody tr th:only-of-type {\n",
              "        vertical-align: middle;\n",
              "    }\n",
              "\n",
              "    .dataframe tbody tr th {\n",
              "        vertical-align: top;\n",
              "    }\n",
              "\n",
              "    .dataframe thead th {\n",
              "        text-align: right;\n",
              "    }\n",
              "</style>\n",
              "<table border=\"1\" class=\"dataframe\">\n",
              "  <thead>\n",
              "    <tr style=\"text-align: right;\">\n",
              "      <th></th>\n",
              "      <th>id</th>\n",
              "      <th>age</th>\n",
              "      <th>gender</th>\n",
              "      <th>height</th>\n",
              "      <th>weight</th>\n",
              "      <th>systolic_bp</th>\n",
              "      <th>diastolic_bp</th>\n",
              "      <th>cholesterol</th>\n",
              "      <th>glucose</th>\n",
              "      <th>smoker</th>\n",
              "      <th>alcohol_intake</th>\n",
              "      <th>active</th>\n",
              "      <th>cardio</th>\n",
              "    </tr>\n",
              "  </thead>\n",
              "  <tbody>\n",
              "    <tr>\n",
              "      <th>0</th>\n",
              "      <td>82567</td>\n",
              "      <td>18804</td>\n",
              "      <td>2</td>\n",
              "      <td>165</td>\n",
              "      <td>10</td>\n",
              "      <td>180</td>\n",
              "      <td>1100</td>\n",
              "      <td>2</td>\n",
              "      <td>2</td>\n",
              "      <td>0</td>\n",
              "      <td>0</td>\n",
              "      <td>1</td>\n",
              "      <td>1</td>\n",
              "    </tr>\n",
              "    <tr>\n",
              "      <th>1</th>\n",
              "      <td>48318</td>\n",
              "      <td>21582</td>\n",
              "      <td>2</td>\n",
              "      <td>178</td>\n",
              "      <td>11</td>\n",
              "      <td>130</td>\n",
              "      <td>90</td>\n",
              "      <td>1</td>\n",
              "      <td>1</td>\n",
              "      <td>0</td>\n",
              "      <td>0</td>\n",
              "      <td>1</td>\n",
              "      <td>1</td>\n",
              "    </tr>\n",
              "    <tr>\n",
              "      <th>2</th>\n",
              "      <td>85931</td>\n",
              "      <td>21855</td>\n",
              "      <td>1</td>\n",
              "      <td>162</td>\n",
              "      <td>21</td>\n",
              "      <td>120</td>\n",
              "      <td>80</td>\n",
              "      <td>2</td>\n",
              "      <td>1</td>\n",
              "      <td>0</td>\n",
              "      <td>0</td>\n",
              "      <td>1</td>\n",
              "      <td>1</td>\n",
              "    </tr>\n",
              "    <tr>\n",
              "      <th>3</th>\n",
              "      <td>42156</td>\n",
              "      <td>20408</td>\n",
              "      <td>2</td>\n",
              "      <td>177</td>\n",
              "      <td>22</td>\n",
              "      <td>120</td>\n",
              "      <td>80</td>\n",
              "      <td>1</td>\n",
              "      <td>1</td>\n",
              "      <td>1</td>\n",
              "      <td>1</td>\n",
              "      <td>1</td>\n",
              "      <td>0</td>\n",
              "    </tr>\n",
              "    <tr>\n",
              "      <th>4</th>\n",
              "      <td>38312</td>\n",
              "      <td>23284</td>\n",
              "      <td>1</td>\n",
              "      <td>157</td>\n",
              "      <td>23</td>\n",
              "      <td>110</td>\n",
              "      <td>80</td>\n",
              "      <td>1</td>\n",
              "      <td>1</td>\n",
              "      <td>0</td>\n",
              "      <td>0</td>\n",
              "      <td>1</td>\n",
              "      <td>0</td>\n",
              "    </tr>\n",
              "  </tbody>\n",
              "</table>\n",
              "</div>"
            ],
            "text/plain": [
              "      id    age gender height  ... smoker alcohol_intake active cardio\n",
              "0  82567  18804      2    165  ...      0              0      1      1\n",
              "1  48318  21582      2    178  ...      0              0      1      1\n",
              "2  85931  21855      1    162  ...      0              0      1      1\n",
              "3  42156  20408      2    177  ...      1              1      1      0\n",
              "4  38312  23284      1    157  ...      0              0      1      0\n",
              "\n",
              "[5 rows x 13 columns]"
            ]
          },
          "metadata": {},
          "execution_count": 6
        }
      ]
    },
    {
      "cell_type": "code",
      "metadata": {
        "colab": {
          "base_uri": "https://localhost:8080/"
        },
        "id": "L83vOya4a5rc",
        "outputId": "9361be9e-09c4-42cf-d2c7-89bf0bc9e6d4"
      },
      "source": [
        "# Summary statistics of the continuous variables\n",
        "cardio_df.select(\"id\", \"age\", \"height\", \"weight\", \"systolic_bp\", \"diastolic_bp\").describe().show()"
      ],
      "execution_count": 7,
      "outputs": [
        {
          "output_type": "stream",
          "name": "stdout",
          "text": [
            "+-------+------------------+------------------+------------------+------------------+------------------+------------------+\n",
            "|summary|                id|               age|            height|            weight|       systolic_bp|      diastolic_bp|\n",
            "+-------+------------------+------------------+------------------+------------------+------------------+------------------+\n",
            "|  count|             70000|             70000|             70000|             70000|             70000|             70000|\n",
            "|   mean|        49972.4199|19468.865814285713|164.35922857142856| 74.20568999999998| 128.8172857142857| 96.63041428571428|\n",
            "| stddev|28851.302323172928|2467.2516672413917| 8.210126364538551|14.395756678511473|154.01141945609032|188.47253029639106|\n",
            "|    min|                 0|             10798|               100|                10|              -100|               -70|\n",
            "|    max|             99999|             23713|                99|              99.9|                99|                99|\n",
            "+-------+------------------+------------------+------------------+------------------+------------------+------------------+\n",
            "\n"
          ]
        }
      ]
    },
    {
      "cell_type": "code",
      "metadata": {
        "colab": {
          "base_uri": "https://localhost:8080/"
        },
        "id": "y5j5DmWfdOvD",
        "outputId": "50ea221d-9c11-4a51-948a-1f8fd71ec759"
      },
      "source": [
        "# Find the correlation between the continuous variables\n",
        "from pyspark.mllib.stat import Statistics\n",
        "\n",
        "# select variables to check correlation\n",
        "cardio_df_features = cardio_df.select(\"id\", \"age\", \"height\",\"weight\",\"systolic_bp\",\"diastolic_bp\") \n",
        "\n",
        "# create RDD table for correlation calculation\n",
        "rdd_table = cardio_df_features.rdd.map(lambda row: row[0:])\n",
        "\n",
        "# get the correlation matrix\n",
        "corr_mat=Statistics.corr(rdd_table, method=\"pearson\")\n",
        "print(corr_mat)"
      ],
      "execution_count": 8,
      "outputs": [
        {
          "output_type": "stream",
          "name": "stdout",
          "text": [
            "[[ 1.          0.00345653 -0.00303782 -0.00182999  0.0033556  -0.00252928]\n",
            " [ 0.00345653  1.         -0.08151535  0.05368404  0.02076432  0.01764743]\n",
            " [-0.00303782 -0.08151535  1.          0.29096783  0.00548776  0.00615047]\n",
            " [-0.00182999  0.05368404  0.29096783  1.          0.03070221  0.04370977]\n",
            " [ 0.0033556   0.02076432  0.00548776  0.03070221  1.          0.01608551]\n",
            " [-0.00252928  0.01764743  0.00615047  0.04370977  0.01608551  1.        ]]\n"
          ]
        }
      ]
    },
    {
      "cell_type": "markdown",
      "metadata": {
        "id": "ZgLQx1vcgkTx"
      },
      "source": [
        "##### At this time we notice no substantial correlation between any of the continuous variables.\n",
        "#####  Except for a slight correlation between height and weight.\n",
        "##### (We have observed improbable values for height and weight, and this could have impacted the correlation)"
      ]
    },
    {
      "cell_type": "code",
      "metadata": {
        "colab": {
          "base_uri": "https://localhost:8080/"
        },
        "id": "Dr7ra9gTiV7w",
        "outputId": "a68604da-743c-4d17-8bde-40e89820bd72"
      },
      "source": [
        "# Check for null values\n",
        "Dict_Null = {col:cardio_df.filter(cardio_df[col].isNull()).count() for col in cardio_df.columns}\n",
        "Dict_Null"
      ],
      "execution_count": 9,
      "outputs": [
        {
          "output_type": "execute_result",
          "data": {
            "text/plain": [
              "{'active': 0,\n",
              " 'age': 0,\n",
              " 'alcohol_intake': 0,\n",
              " 'cardio': 0,\n",
              " 'cholesterol': 0,\n",
              " 'diastolic_bp': 0,\n",
              " 'gender': 0,\n",
              " 'glucose': 0,\n",
              " 'height': 0,\n",
              " 'id': 0,\n",
              " 'smoker': 0,\n",
              " 'systolic_bp': 0,\n",
              " 'weight': 0}"
            ]
          },
          "metadata": {},
          "execution_count": 9
        }
      ]
    },
    {
      "cell_type": "code",
      "metadata": {
        "colab": {
          "base_uri": "https://localhost:8080/"
        },
        "id": "BKtZjZrcjI4j",
        "outputId": "57d80d10-80c9-4aa2-ce85-25461536203e"
      },
      "source": [
        "# Check for duplicate rows. We will do this by counting the number of distinct rows.\n",
        "cardio_df.distinct().count()"
      ],
      "execution_count": 10,
      "outputs": [
        {
          "output_type": "execute_result",
          "data": {
            "text/plain": [
              "70000"
            ]
          },
          "metadata": {},
          "execution_count": 10
        }
      ]
    },
    {
      "cell_type": "markdown",
      "metadata": {
        "id": "2jdSP4ChtwSe"
      },
      "source": [
        "##### The number of distinct rows id 70,000. So we know that this DataFrame has no duplicate rows"
      ]
    },
    {
      "cell_type": "code",
      "metadata": {
        "id": "W2PkxXZukMOq"
      },
      "source": [
        "# Check the distinct values of the categorical variables\n",
        "# https://stackoverflow.com/questions/64805788/get-distinct-values-of-multiple-columns\n",
        "from pyspark.sql.functions import collect_set\n",
        "from pyspark.sql.functions import col"
      ],
      "execution_count": 11,
      "outputs": []
    },
    {
      "cell_type": "code",
      "metadata": {
        "colab": {
          "base_uri": "https://localhost:8080/"
        },
        "id": "HHHIrxhBkSeR",
        "outputId": "5caf7fb3-cd13-4a72-c4ba-41dbdd9f5f5d"
      },
      "source": [
        "columns = [\"gender\", \"cholesterol\", \"glucose\", \"smoker\", \"alcohol_intake\", \"active\", \"cardio\"]\n",
        "columnExprs = map(lambda c: collect_set(col(c)).alias(c), columns)\n",
        "cardio_df.select(*columnExprs).show()"
      ],
      "execution_count": 12,
      "outputs": [
        {
          "output_type": "stream",
          "name": "stdout",
          "text": [
            "+------+-----------+---------+------+--------------+------+------+\n",
            "|gender|cholesterol|  glucose|smoker|alcohol_intake|active|cardio|\n",
            "+------+-----------+---------+------+--------------+------+------+\n",
            "|[1, 2]|  [3, 1, 2]|[3, 1, 2]|[1, 0]|        [1, 0]|[1, 0]|[1, 0]|\n",
            "+------+-----------+---------+------+--------------+------+------+\n",
            "\n"
          ]
        }
      ]
    },
    {
      "cell_type": "code",
      "metadata": {
        "colab": {
          "base_uri": "https://localhost:8080/"
        },
        "id": "6lfCZaqFoeh4",
        "outputId": "52da14ae-e930-4c84-83d7-7d33fb069476"
      },
      "source": [
        "# Check for frequencies of categorical variables.\n",
        "cardio_df.groupBy(\"gender\").count().show()\n",
        "cardio_df.groupBy(\"cholesterol\").count().show()\n",
        "cardio_df.groupBy(\"glucose\").count().show()\n",
        "cardio_df.groupBy(\"smoker\").count().show()\n",
        "cardio_df.groupBy(\"alcohol_intake\").count().show()\n",
        "cardio_df.groupBy(\"active\").count().show()\n",
        "cardio_df.groupBy(\"cardio\").count().show()"
      ],
      "execution_count": 13,
      "outputs": [
        {
          "output_type": "stream",
          "name": "stdout",
          "text": [
            "+------+-----+\n",
            "|gender|count|\n",
            "+------+-----+\n",
            "|     1|45530|\n",
            "|     2|24470|\n",
            "+------+-----+\n",
            "\n",
            "+-----------+-----+\n",
            "|cholesterol|count|\n",
            "+-----------+-----+\n",
            "|          3| 8066|\n",
            "|          1|52385|\n",
            "|          2| 9549|\n",
            "+-----------+-----+\n",
            "\n",
            "+-------+-----+\n",
            "|glucose|count|\n",
            "+-------+-----+\n",
            "|      3| 5331|\n",
            "|      1|59479|\n",
            "|      2| 5190|\n",
            "+-------+-----+\n",
            "\n",
            "+------+-----+\n",
            "|smoker|count|\n",
            "+------+-----+\n",
            "|     0|63831|\n",
            "|     1| 6169|\n",
            "+------+-----+\n",
            "\n",
            "+--------------+-----+\n",
            "|alcohol_intake|count|\n",
            "+--------------+-----+\n",
            "|             0|66236|\n",
            "|             1| 3764|\n",
            "+--------------+-----+\n",
            "\n",
            "+------+-----+\n",
            "|active|count|\n",
            "+------+-----+\n",
            "|     0|13739|\n",
            "|     1|56261|\n",
            "+------+-----+\n",
            "\n",
            "+------+-----+\n",
            "|cardio|count|\n",
            "+------+-----+\n",
            "|     0|35021|\n",
            "|     1|34979|\n",
            "+------+-----+\n",
            "\n"
          ]
        }
      ]
    },
    {
      "cell_type": "markdown",
      "metadata": {
        "id": "dnoKaO__fDcI"
      },
      "source": [
        "### Data Processing on continous variables"
      ]
    },
    {
      "cell_type": "code",
      "metadata": {
        "id": "Ic4aL_ye89ls"
      },
      "source": [
        "# Filter based on height. Keep height between 135 - 215cm\n",
        "cardio_df = cardio_df.filter((cardio_df[\"height\"] >=135) & (cardio_df[\"height\"] <=215))"
      ],
      "execution_count": 14,
      "outputs": []
    },
    {
      "cell_type": "code",
      "metadata": {
        "colab": {
          "base_uri": "https://localhost:8080/"
        },
        "id": "iDICjEu9AVTW",
        "outputId": "94f52b0a-2b54-4ec9-bfd4-fe05fec7d0b7"
      },
      "source": [
        "# The shape of the dataframe after filtering out the improbable values of height\n",
        "print((cardio_df.count(), len(cardio_df.columns)))"
      ],
      "execution_count": 15,
      "outputs": [
        {
          "output_type": "stream",
          "name": "stdout",
          "text": [
            "(69883, 13)\n"
          ]
        }
      ]
    },
    {
      "cell_type": "code",
      "metadata": {
        "id": "szLmU_LeBBzs"
      },
      "source": [
        "# Filter based on weight. Keep height between 25 - 200kg\n",
        "cardio_df = cardio_df.filter((cardio_df[\"weight\"] >=25) & (cardio_df[\"weight\"] <=200))"
      ],
      "execution_count": 16,
      "outputs": []
    },
    {
      "cell_type": "code",
      "metadata": {
        "colab": {
          "base_uri": "https://localhost:8080/"
        },
        "id": "YNMW3xLlAcYf",
        "outputId": "e0ad6c5c-16fa-40ea-eebe-6edb766dc3b3"
      },
      "source": [
        "# The shape of the dataframe after filtering out the improbable values of weight\n",
        "print((cardio_df.count(), len(cardio_df.columns)))"
      ],
      "execution_count": 17,
      "outputs": [
        {
          "output_type": "stream",
          "name": "stdout",
          "text": [
            "(69878, 13)\n"
          ]
        }
      ]
    },
    {
      "cell_type": "code",
      "metadata": {
        "id": "VxLpNxTBIxds"
      },
      "source": [
        "# Change the signs of negative values of systolic and diastolic bp\n",
        "from pyspark.sql.functions import abs\n",
        "cardio_df = cardio_df.withColumn(\"systolic_bp\", abs(cardio_df[\"systolic_bp\"])).withColumn(\"diastolic_bp\", abs(cardio_df[\"diastolic_bp\"]))"
      ],
      "execution_count": 18,
      "outputs": []
    },
    {
      "cell_type": "code",
      "metadata": {
        "colab": {
          "base_uri": "https://localhost:8080/"
        },
        "id": "8KaxF6fiSK8D",
        "outputId": "370bc6d4-a4a8-4ae8-a93b-e6eb978bbf0a"
      },
      "source": [
        "# Check for presence of negative values in the columns\n",
        "cardio_df.filter((cardio_df[\"diastolic_bp\"] <0)).groupby(\"diastolic_bp\").count().show()\n",
        "cardio_df.filter((cardio_df[\"systolic_bp\"] <0)).groupby(\"systolic_bp\").count().show()\n"
      ],
      "execution_count": 19,
      "outputs": [
        {
          "output_type": "stream",
          "name": "stdout",
          "text": [
            "+------------+-----+\n",
            "|diastolic_bp|count|\n",
            "+------------+-----+\n",
            "+------------+-----+\n",
            "\n",
            "+-----------+-----+\n",
            "|systolic_bp|count|\n",
            "+-----------+-----+\n",
            "+-----------+-----+\n",
            "\n"
          ]
        }
      ]
    },
    {
      "cell_type": "code",
      "metadata": {
        "id": "MpSaGPkmE0jS"
      },
      "source": [
        "# Filter based on systolic_bp values between 80 and 180. \n",
        "cardio_df = cardio_df.filter((cardio_df[\"systolic_bp\"] >=80) & (cardio_df[\"systolic_bp\"] <=180))"
      ],
      "execution_count": 20,
      "outputs": []
    },
    {
      "cell_type": "code",
      "metadata": {
        "id": "mVn0UtqkWo4v"
      },
      "source": [
        "# Filter based on diastolic_bp values between 40 and 120. \n",
        "cardio_df = cardio_df.filter((cardio_df[\"diastolic_bp\"] >=40) & (cardio_df[\"diastolic_bp\"] <=120))"
      ],
      "execution_count": 21,
      "outputs": []
    },
    {
      "cell_type": "code",
      "metadata": {
        "colab": {
          "base_uri": "https://localhost:8080/"
        },
        "id": "9x0WnYGeXISp",
        "outputId": "4cd7d543-665e-4a78-c3d1-bfc6f729f8b0"
      },
      "source": [
        "# The shape of the dataframe after filtering out the improbable values of systolic and diastolic bp\n",
        "print((cardio_df.count(), len(cardio_df.columns)))"
      ],
      "execution_count": 22,
      "outputs": [
        {
          "output_type": "stream",
          "name": "stdout",
          "text": [
            "(68297, 13)\n"
          ]
        }
      ]
    },
    {
      "cell_type": "code",
      "metadata": {
        "id": "h6iaZm4t-rkO"
      },
      "source": [
        "# Turn age values from days to years\n",
        "import pyspark.sql.functions as F"
      ],
      "execution_count": 23,
      "outputs": []
    },
    {
      "cell_type": "code",
      "metadata": {
        "id": "WGbNm8AC-tD2"
      },
      "source": [
        "cardio_df = cardio_df.withColumn(\"Age\", (F.col(\"age\") / 365).cast('int')) "
      ],
      "execution_count": 24,
      "outputs": []
    },
    {
      "cell_type": "code",
      "metadata": {
        "colab": {
          "base_uri": "https://localhost:8080/"
        },
        "id": "GCyNPBVwBK-9",
        "outputId": "0fa65635-f4e6-49ed-c0de-707b9fdcdb7c"
      },
      "source": [
        "cardio_df.show(5)"
      ],
      "execution_count": 25,
      "outputs": [
        {
          "output_type": "stream",
          "name": "stdout",
          "text": [
            "+-----+---+------+------+------+-----------+------------+-----------+-------+------+--------------+------+------+\n",
            "|   id|Age|gender|height|weight|systolic_bp|diastolic_bp|cholesterol|glucose|smoker|alcohol_intake|active|cardio|\n",
            "+-----+---+------+------+------+-----------+------------+-----------+-------+------+--------------+------+------+\n",
            "|86650| 51|     1|   171|    29|      110.0|        70.0|          2|      1|     0|             0|     1|     1|\n",
            "|26503| 49|     1|   160|    30|      120.0|        80.0|          1|      1|     0|             0|     1|     1|\n",
            "|59853| 58|     1|   143|    30|      103.0|        61.0|          2|      1|     0|             0|     1|     0|\n",
            "|24167| 47|     2|   170|    31|      150.0|        90.0|          2|      2|     0|             0|     1|     1|\n",
            "|31439| 42|     1|   146|    32|      100.0|        70.0|          1|      1|     0|             0|     0|     0|\n",
            "+-----+---+------+------+------+-----------+------------+-----------+-------+------+--------------+------+------+\n",
            "only showing top 5 rows\n",
            "\n"
          ]
        }
      ]
    },
    {
      "cell_type": "markdown",
      "metadata": {
        "id": "u8DqletluYTC"
      },
      "source": [
        "##### The variable id will not be useful for further analysis, as it yeilds no meaningful data contributing to heart disease.\n",
        "##### The column id will therefore be dropped."
      ]
    },
    {
      "cell_type": "code",
      "metadata": {
        "id": "-QROLwpxuWjW"
      },
      "source": [
        "cardio_df = cardio_df.drop(\"id\")"
      ],
      "execution_count": 27,
      "outputs": []
    },
    {
      "cell_type": "code",
      "metadata": {
        "colab": {
          "base_uri": "https://localhost:8080/",
          "height": 204
        },
        "id": "XTSPIpoNvtPI",
        "outputId": "bc45b2e7-7f3f-4c00-beef-7b98bd1c16b1"
      },
      "source": [
        "cardio_df.toPandas().head(5)"
      ],
      "execution_count": 28,
      "outputs": [
        {
          "output_type": "execute_result",
          "data": {
            "text/html": [
              "<div>\n",
              "<style scoped>\n",
              "    .dataframe tbody tr th:only-of-type {\n",
              "        vertical-align: middle;\n",
              "    }\n",
              "\n",
              "    .dataframe tbody tr th {\n",
              "        vertical-align: top;\n",
              "    }\n",
              "\n",
              "    .dataframe thead th {\n",
              "        text-align: right;\n",
              "    }\n",
              "</style>\n",
              "<table border=\"1\" class=\"dataframe\">\n",
              "  <thead>\n",
              "    <tr style=\"text-align: right;\">\n",
              "      <th></th>\n",
              "      <th>Age</th>\n",
              "      <th>gender</th>\n",
              "      <th>height</th>\n",
              "      <th>weight</th>\n",
              "      <th>systolic_bp</th>\n",
              "      <th>diastolic_bp</th>\n",
              "      <th>cholesterol</th>\n",
              "      <th>glucose</th>\n",
              "      <th>smoker</th>\n",
              "      <th>alcohol_intake</th>\n",
              "      <th>active</th>\n",
              "      <th>cardio</th>\n",
              "    </tr>\n",
              "  </thead>\n",
              "  <tbody>\n",
              "    <tr>\n",
              "      <th>0</th>\n",
              "      <td>51</td>\n",
              "      <td>1</td>\n",
              "      <td>171</td>\n",
              "      <td>29</td>\n",
              "      <td>110.0</td>\n",
              "      <td>70.0</td>\n",
              "      <td>2</td>\n",
              "      <td>1</td>\n",
              "      <td>0</td>\n",
              "      <td>0</td>\n",
              "      <td>1</td>\n",
              "      <td>1</td>\n",
              "    </tr>\n",
              "    <tr>\n",
              "      <th>1</th>\n",
              "      <td>49</td>\n",
              "      <td>1</td>\n",
              "      <td>160</td>\n",
              "      <td>30</td>\n",
              "      <td>120.0</td>\n",
              "      <td>80.0</td>\n",
              "      <td>1</td>\n",
              "      <td>1</td>\n",
              "      <td>0</td>\n",
              "      <td>0</td>\n",
              "      <td>1</td>\n",
              "      <td>1</td>\n",
              "    </tr>\n",
              "    <tr>\n",
              "      <th>2</th>\n",
              "      <td>58</td>\n",
              "      <td>1</td>\n",
              "      <td>143</td>\n",
              "      <td>30</td>\n",
              "      <td>103.0</td>\n",
              "      <td>61.0</td>\n",
              "      <td>2</td>\n",
              "      <td>1</td>\n",
              "      <td>0</td>\n",
              "      <td>0</td>\n",
              "      <td>1</td>\n",
              "      <td>0</td>\n",
              "    </tr>\n",
              "    <tr>\n",
              "      <th>3</th>\n",
              "      <td>47</td>\n",
              "      <td>2</td>\n",
              "      <td>170</td>\n",
              "      <td>31</td>\n",
              "      <td>150.0</td>\n",
              "      <td>90.0</td>\n",
              "      <td>2</td>\n",
              "      <td>2</td>\n",
              "      <td>0</td>\n",
              "      <td>0</td>\n",
              "      <td>1</td>\n",
              "      <td>1</td>\n",
              "    </tr>\n",
              "    <tr>\n",
              "      <th>4</th>\n",
              "      <td>42</td>\n",
              "      <td>1</td>\n",
              "      <td>146</td>\n",
              "      <td>32</td>\n",
              "      <td>100.0</td>\n",
              "      <td>70.0</td>\n",
              "      <td>1</td>\n",
              "      <td>1</td>\n",
              "      <td>0</td>\n",
              "      <td>0</td>\n",
              "      <td>0</td>\n",
              "      <td>0</td>\n",
              "    </tr>\n",
              "  </tbody>\n",
              "</table>\n",
              "</div>"
            ],
            "text/plain": [
              "   Age gender height weight  ...  smoker  alcohol_intake active cardio\n",
              "0   51      1    171     29  ...       0               0      1      1\n",
              "1   49      1    160     30  ...       0               0      1      1\n",
              "2   58      1    143     30  ...       0               0      1      0\n",
              "3   47      2    170     31  ...       0               0      1      1\n",
              "4   42      1    146     32  ...       0               0      0      0\n",
              "\n",
              "[5 rows x 12 columns]"
            ]
          },
          "metadata": {},
          "execution_count": 28
        }
      ]
    },
    {
      "cell_type": "markdown",
      "metadata": {
        "id": "97kRoBe6lYk3"
      },
      "source": [
        "### Storing data into output csv file"
      ]
    },
    {
      "cell_type": "code",
      "metadata": {
        "id": "lgidx1uhZpab"
      },
      "source": [
        "# Write to output csvfile.\n",
        "# First convert to a pandas_df\n",
        "cardio_cleaned_df = cardio_df.toPandas()\n",
        "\n",
        "# Store result\n",
        "cardio_cleaned_df.to_csv(\"/content/Resources/cardio_data_cleaned.csv\", index=False)"
      ],
      "execution_count": 31,
      "outputs": []
    },
    {
      "cell_type": "code",
      "metadata": {
        "id": "N8EpVHQDrm8i"
      },
      "source": [
        ""
      ],
      "execution_count": null,
      "outputs": []
    }
  ]
}