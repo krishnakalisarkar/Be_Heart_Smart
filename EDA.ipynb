{
 "cells": [
  {
   "cell_type": "code",
   "execution_count": null,
   "id": "fc0f3573",
   "metadata": {},
   "outputs": [],
   "source": [
    "import os\n",
    "import pandas as pd\n",
    "import numpy as np\n",
    "import matplotlib.pyplot as plt\n",
    "import seaborn as sns\n",
    "import plotly.graph_objects as go \n",
    "import plotly.express as px \n",
    "%matplotlib inline"
   ]
  },
  {
   "cell_type": "code",
   "execution_count": null,
   "id": "21f09a31",
   "metadata": {},
   "outputs": [],
   "source": [
    "# Read the data to a dataframe\n",
    "\n",
    "cardio_df = pd.read_csv(\"cardio_data_cleaned.csv\")\n",
    "  \n",
    "cardio_df.head()"
   ]
  },
  {
   "cell_type": "code",
   "execution_count": null,
   "id": "32f80c16",
   "metadata": {},
   "outputs": [],
   "source": [
    "# Check the shape\n",
    "cardio_df.shape"
   ]
  },
  {
   "cell_type": "code",
   "execution_count": null,
   "id": "18f041fd",
   "metadata": {},
   "outputs": [],
   "source": [
    "# Check the columns\n",
    "cardio_df.columns"
   ]
  },
  {
   "cell_type": "code",
   "execution_count": null,
   "id": "61ffbcdf",
   "metadata": {},
   "outputs": [],
   "source": [
    "# Get the general info on the data\n",
    "cardio_df.info()"
   ]
  },
  {
   "cell_type": "code",
   "execution_count": null,
   "id": "6ccabc57",
   "metadata": {},
   "outputs": [],
   "source": [
    "# Check for data types\n",
    "cardio_df.dtypes"
   ]
  },
  {
   "cell_type": "code",
   "execution_count": null,
   "id": "b16e3099",
   "metadata": {},
   "outputs": [],
   "source": [
    "cardio_df.nunique()"
   ]
  },
  {
   "cell_type": "code",
   "execution_count": null,
   "id": "f694a8e8",
   "metadata": {},
   "outputs": [],
   "source": [
    "# Check for missing values\n",
    "cardio_df.isnull().sum()"
   ]
  },
  {
   "cell_type": "code",
   "execution_count": null,
   "id": "5ec4f3b4",
   "metadata": {},
   "outputs": [],
   "source": [
    "# Convert age(days) to age(years)\n",
    "cardio_df[\"age\"] = round(cardio_df[\"age\"] / 365)"
   ]
  },
  {
   "cell_type": "code",
   "execution_count": null,
   "id": "4e383d82",
   "metadata": {},
   "outputs": [],
   "source": [
    "# Check for descriptive statistics\n",
    "cardio_df.describe()\n"
   ]
  },
  {
   "cell_type": "code",
   "execution_count": null,
   "id": "6e336a0c",
   "metadata": {},
   "outputs": [],
   "source": [
    "# Plotting bar graph for the target variable: cardio\n",
    "\n",
    "print(cardio_df.cardio.value_counts())\n",
    "\n",
    "cardio_df['cardio'].value_counts().plot(kind='bar').set_title('Cardiovascular Disease- No Disease:0, Disease:1') \n",
    "\n"
   ]
  },
  {
   "cell_type": "code",
   "execution_count": null,
   "id": "65030cf1",
   "metadata": {},
   "outputs": [],
   "source": [
    "# Check the distribution of age\n",
    "cardio_df['age'].hist().plot(kind='bar')\n",
    "plt.title('Age Distribution')"
   ]
  },
  {
   "cell_type": "code",
   "execution_count": null,
   "id": "1b430907",
   "metadata": {},
   "outputs": [],
   "source": [
    "# Check the distribution of weight\n",
    "cardio_df['weight'].hist().plot(kind='bar')\n",
    "plt.title('Weight Distribution')"
   ]
  },
  {
   "cell_type": "code",
   "execution_count": null,
   "id": "db1f6425",
   "metadata": {},
   "outputs": [],
   "source": [
    "# Check the distribution of age\n",
    "cardio_df['systolic_bp'].hist().plot(kind='bar')\n",
    "plt.title('Systolic Blood Pressure Distribution')"
   ]
  },
  {
   "cell_type": "code",
   "execution_count": null,
   "id": "5d5be0a3",
   "metadata": {},
   "outputs": [],
   "source": [
    "# Check the distribution of diastolic_bp\n",
    "cardio_df['diastolic_bp'].hist().plot(kind='bar')\n",
    "plt.title('Diastolic Blood Pressure Distribution')"
   ]
  },
  {
   "cell_type": "code",
   "execution_count": null,
   "id": "3fb4aa08",
   "metadata": {},
   "outputs": [],
   "source": [
    "sns.set(style=\"white\") \n",
    "plt.rcParams['figure.figsize'] = (15, 10) \n",
    "sns.heatmap(cardio_df.corr(), annot = True, linewidths=.5, cmap=\"Blues\")\n",
    "plt.title('Corelation Between Variables', fontsize = 30)\n",
    "plt.show()\n"
   ]
  },
  {
   "cell_type": "code",
   "execution_count": null,
   "id": "882df39f",
   "metadata": {},
   "outputs": [],
   "source": []
  }
 ],
 "metadata": {
  "kernelspec": {
   "display_name": "mlenv",
   "language": "python",
   "name": "mlenv"
  },
  "language_info": {
   "codemirror_mode": {
    "name": "ipython",
    "version": 3
   },
   "file_extension": ".py",
   "mimetype": "text/x-python",
   "name": "python",
   "nbconvert_exporter": "python",
   "pygments_lexer": "ipython3",
   "version": "3.7.10"
  }
 },
 "nbformat": 4,
 "nbformat_minor": 5
}
